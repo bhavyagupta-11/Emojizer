{
 "cells": [
  {
   "cell_type": "markdown",
   "id": "af35337e",
   "metadata": {},
   "source": [
    "TRANSFER LEARNING (GLOVE VECTOR)\n",
    "RNN/LSTM BASED MODEL\n",
    "STACKED LSTM MODEL"
   ]
  },
  {
   "cell_type": "markdown",
   "id": "91e3e831",
   "metadata": {},
   "source": [
    "GET THE EMOJI PACKAGE"
   ]
  },
  {
   "cell_type": "code",
   "execution_count": 1,
   "id": "15e068d0",
   "metadata": {},
   "outputs": [],
   "source": [
    "import emoji\n",
    "#emoji.EMOJI_DATA"
   ]
  },
  {
   "cell_type": "code",
   "execution_count": 2,
   "id": "f07867bd",
   "metadata": {},
   "outputs": [],
   "source": [
    "emoji_dictionary={\n",
    "    \"0\":\":\\u2764\\uFE0F:\",\n",
    "    \"1\":\":baseball:\",\n",
    "    \"2\":\":grinning_face_with_big_eyes:\",\n",
    "    \"3\":\":disappointed_face:\",\n",
    "    \"4\":\":fork_and_knife:\",\n",
    "    \"5\":\":hundred_points:\",\n",
    "    \"6\":\":fire:\",\n",
    "    \"7\":\":face_blowing_a_kiss:\",\n",
    "    \"8\":\":chestnut:\",\n",
    "    \"9\":\":flexed_biceps:\"\n",
    "}"
   ]
  },
  {
   "cell_type": "code",
   "execution_count": 3,
   "id": "ebc4a365",
   "metadata": {},
   "outputs": [
    {
     "name": "stdout",
     "output_type": "stream",
     "text": [
      ":❤️:\n",
      "⚾\n",
      "😃\n",
      "😞\n",
      "🍴\n",
      "💯\n",
      "🔥\n",
      "😘\n",
      "🌰\n",
      "💪\n"
     ]
    }
   ],
   "source": [
    "for e in emoji_dictionary.values():\n",
    "    print(emoji.emojize(e))"
   ]
  },
  {
   "cell_type": "markdown",
   "id": "c0fb738b",
   "metadata": {},
   "source": [
    "PROCESSING A CUSTOM DATASET"
   ]
  },
  {
   "cell_type": "code",
   "execution_count": 4,
   "id": "315c7063",
   "metadata": {},
   "outputs": [],
   "source": [
    "import pandas as pd\n",
    "import numpy as np"
   ]
  },
  {
   "cell_type": "code",
   "execution_count": 5,
   "id": "be6e6a74",
   "metadata": {},
   "outputs": [],
   "source": [
    "train=pd.read_csv('train_emoji.csv')\n",
    "test=pd.read_csv('test_emoji.csv')"
   ]
  },
  {
   "cell_type": "code",
   "execution_count": 6,
   "id": "a3de313f",
   "metadata": {},
   "outputs": [],
   "source": [
    "X_train=train.iloc[:,0].values\n",
    "Y_train=train.iloc[:,1].values\n",
    "\n",
    "X_test=test.iloc[:,0].values\n",
    "Y_test=test.iloc[:,1].values"
   ]
  },
  {
   "cell_type": "code",
   "execution_count": 7,
   "id": "f8ffdf80",
   "metadata": {},
   "outputs": [
    {
     "name": "stdout",
     "output_type": "stream",
     "text": [
      "I am proud of your achievements 😃\n",
      "It is the worst day in my life 😞\n",
      "Miss you so much :❤️:\n",
      "food is life 🍴\n",
      "I love you mum :❤️:\n"
     ]
    }
   ],
   "source": [
    "for i in range(5):\n",
    "    print(X_train[i],emoji.emojize(emoji_dictionary[str(Y_train[i])]))"
   ]
  },
  {
   "cell_type": "markdown",
   "id": "7bf81a34",
   "metadata": {},
   "source": [
    "GLOVE VECTORS"
   ]
  },
  {
   "cell_type": "code",
   "execution_count": 8,
   "id": "6f72cc1d",
   "metadata": {},
   "outputs": [],
   "source": [
    "f=open('glove.6B.50d.txt',encoding='utf-8') "
   ]
  },
  {
   "cell_type": "code",
   "execution_count": 9,
   "id": "cb432e8b",
   "metadata": {},
   "outputs": [],
   "source": [
    "embedding_index={}\n",
    "for line in f:\n",
    "    values=line.split()\n",
    "    word=values[0]\n",
    "    coefs=np.asarray(values[1:],dtype='float')\n",
    "    embedding_index[word]=coefs\n",
    "f.close()"
   ]
  },
  {
   "cell_type": "markdown",
   "id": "7d7b15e8",
   "metadata": {},
   "source": [
    "SENTENCE TO VECTORS"
   ]
  },
  {
   "cell_type": "code",
   "execution_count": 10,
   "id": "2e473547",
   "metadata": {},
   "outputs": [],
   "source": [
    "def embedding_output(X):\n",
    "    #no.of rnn units=no.of maxlength of sentence\n",
    "    maxLen=10\n",
    "    embed_dim=50\n",
    "    embedding_out=np.zeros((X.shape[0],maxLen,embed_dim))\n",
    "    \n",
    "    for i in range(X.shape[0]):\n",
    "        #we need to iterate over words\n",
    "        T=X\n",
    "        T[i]=T[i].split()\n",
    "        for j in range(len(X[i])):\n",
    "            try:\n",
    "                embedding_out[i][j]=embedding_index[T[i][j].lower()]\n",
    "            except:\n",
    "                embedding_out[i][j]=np.zeros((50,))\n",
    "    return embedding_out"
   ]
  },
  {
   "cell_type": "code",
   "execution_count": 11,
   "id": "7f9ad62f",
   "metadata": {},
   "outputs": [],
   "source": [
    "embedded_train=embedding_output(X_train)\n",
    "embedded_test=embedding_output(X_test)"
   ]
  },
  {
   "cell_type": "code",
   "execution_count": 12,
   "id": "1a2a1cf4",
   "metadata": {},
   "outputs": [
    {
     "data": {
      "text/plain": [
       "(131, 10, 50)"
      ]
     },
     "execution_count": 12,
     "metadata": {},
     "output_type": "execute_result"
    }
   ],
   "source": [
    "embedded_train.shape"
   ]
  },
  {
   "cell_type": "code",
   "execution_count": 13,
   "id": "7ccc58e1",
   "metadata": {},
   "outputs": [
    {
     "data": {
      "text/plain": [
       "(55, 10, 50)"
      ]
     },
     "execution_count": 13,
     "metadata": {},
     "output_type": "execute_result"
    }
   ],
   "source": [
    "embedded_test.shape"
   ]
  },
  {
   "cell_type": "markdown",
   "id": "311eb013",
   "metadata": {},
   "source": [
    "LSTM ARCHITECTURE"
   ]
  },
  {
   "cell_type": "code",
   "execution_count": 14,
   "id": "b547c588",
   "metadata": {},
   "outputs": [],
   "source": [
    "#each cell accepts the its corresponding cols of words and the vectors"
   ]
  },
  {
   "cell_type": "code",
   "execution_count": 15,
   "id": "e461573c",
   "metadata": {},
   "outputs": [],
   "source": [
    "from keras.layers import *\n",
    "from keras import models"
   ]
  },
  {
   "cell_type": "code",
   "execution_count": 16,
   "id": "2bd4489e",
   "metadata": {},
   "outputs": [
    {
     "name": "stdout",
     "output_type": "stream",
     "text": [
      "Model: \"sequential\"\n",
      "_________________________________________________________________\n",
      " Layer (type)                Output Shape              Param #   \n",
      "=================================================================\n",
      " lstm (LSTM)                 (None, 10, 64)            29440     \n",
      "                                                                 \n",
      " dropout (Dropout)           (None, 10, 64)            0         \n",
      "                                                                 \n",
      " lstm_1 (LSTM)               (None, 64)                33024     \n",
      "                                                                 \n",
      " dropout_1 (Dropout)         (None, 64)                0         \n",
      "                                                                 \n",
      " dense (Dense)               (None, 10)                650       \n",
      "                                                                 \n",
      " activation (Activation)     (None, 10)                0         \n",
      "                                                                 \n",
      "=================================================================\n",
      "Total params: 63,114\n",
      "Trainable params: 63,114\n",
      "Non-trainable params: 0\n",
      "_________________________________________________________________\n"
     ]
    }
   ],
   "source": [
    "model=models.Sequential()\n",
    "#model.add(LSTM(64,input_shape=(10,50))) for simple models \n",
    "#for complex lstm models we will return sequences\n",
    "model.add(LSTM(64,input_shape=(10,50),return_sequences=True))\n",
    "model.add(Dropout(0.5))\n",
    "model.add(LSTM(64,return_sequences=False))\n",
    "model.add(Dropout(0.5))\n",
    "model.add(Dense(10))\n",
    "model.add(Activation('softmax'))\n",
    "model.compile(loss='categorical_crossentropy',optimizer='adam',metrics=['accuracy'])\n",
    "model.summary()"
   ]
  },
  {
   "cell_type": "code",
   "execution_count": 17,
   "id": "579fe402",
   "metadata": {},
   "outputs": [],
   "source": [
    "#convert Y_train into one hot vectors\n",
    "from keras.utils import to_categorical\n",
    "Y_train=to_categorical(Y_train,num_classes=10)\n",
    "Y_test=to_categorical(Y_test,num_classes=10)"
   ]
  },
  {
   "cell_type": "code",
   "execution_count": 18,
   "id": "a74052bf",
   "metadata": {},
   "outputs": [
    {
     "name": "stdout",
     "output_type": "stream",
     "text": [
      "Epoch 1/100\n",
      "2/2 [==============================] - 6s 1s/step - loss: 2.3209 - accuracy: 0.1250 - val_loss: 2.2389 - val_accuracy: 0.4074\n",
      "Epoch 2/100\n",
      "2/2 [==============================] - 0s 47ms/step - loss: 2.2395 - accuracy: 0.1923 - val_loss: 2.1777 - val_accuracy: 0.2222\n",
      "Epoch 3/100\n",
      "2/2 [==============================] - 0s 46ms/step - loss: 2.1494 - accuracy: 0.2981 - val_loss: 2.1170 - val_accuracy: 0.2593\n",
      "Epoch 4/100\n",
      "2/2 [==============================] - 0s 40ms/step - loss: 2.0452 - accuracy: 0.4231 - val_loss: 2.0530 - val_accuracy: 0.2963\n",
      "Epoch 5/100\n",
      "2/2 [==============================] - 0s 41ms/step - loss: 1.9425 - accuracy: 0.3173 - val_loss: 1.9945 - val_accuracy: 0.2222\n",
      "Epoch 6/100\n",
      "2/2 [==============================] - 0s 43ms/step - loss: 1.8770 - accuracy: 0.3462 - val_loss: 1.9597 - val_accuracy: 0.2222\n",
      "Epoch 7/100\n",
      "2/2 [==============================] - 0s 41ms/step - loss: 1.7338 - accuracy: 0.3558 - val_loss: 1.9568 - val_accuracy: 0.2222\n",
      "Epoch 8/100\n",
      "2/2 [==============================] - 0s 43ms/step - loss: 1.7449 - accuracy: 0.2596 - val_loss: 1.9786 - val_accuracy: 0.2222\n",
      "Epoch 9/100\n",
      "2/2 [==============================] - 0s 42ms/step - loss: 1.7155 - accuracy: 0.3365 - val_loss: 1.9748 - val_accuracy: 0.2222\n",
      "Epoch 10/100\n",
      "2/2 [==============================] - 0s 42ms/step - loss: 1.6640 - accuracy: 0.3077 - val_loss: 1.9393 - val_accuracy: 0.2222\n",
      "Epoch 11/100\n",
      "2/2 [==============================] - 0s 40ms/step - loss: 1.5835 - accuracy: 0.2885 - val_loss: 1.8848 - val_accuracy: 0.2963\n",
      "Epoch 12/100\n",
      "2/2 [==============================] - 0s 43ms/step - loss: 1.6454 - accuracy: 0.3173 - val_loss: 1.8131 - val_accuracy: 0.2593\n",
      "Epoch 13/100\n",
      "2/2 [==============================] - 0s 43ms/step - loss: 1.6061 - accuracy: 0.2981 - val_loss: 1.7484 - val_accuracy: 0.2222\n",
      "Epoch 14/100\n",
      "2/2 [==============================] - 0s 41ms/step - loss: 1.5441 - accuracy: 0.4038 - val_loss: 1.6966 - val_accuracy: 0.2222\n",
      "Epoch 15/100\n",
      "2/2 [==============================] - 0s 39ms/step - loss: 1.5555 - accuracy: 0.3462 - val_loss: 1.6364 - val_accuracy: 0.2593\n",
      "Epoch 16/100\n",
      "2/2 [==============================] - 0s 39ms/step - loss: 1.4339 - accuracy: 0.4712 - val_loss: 1.5851 - val_accuracy: 0.2593\n",
      "Epoch 17/100\n",
      "2/2 [==============================] - 0s 38ms/step - loss: 1.3575 - accuracy: 0.5192 - val_loss: 1.5352 - val_accuracy: 0.2593\n",
      "Epoch 18/100\n",
      "2/2 [==============================] - 0s 42ms/step - loss: 1.3876 - accuracy: 0.4808 - val_loss: 1.4829 - val_accuracy: 0.2222\n",
      "Epoch 19/100\n",
      "2/2 [==============================] - 0s 39ms/step - loss: 1.3613 - accuracy: 0.4615 - val_loss: 1.4377 - val_accuracy: 0.3704\n",
      "Epoch 20/100\n",
      "2/2 [==============================] - 0s 39ms/step - loss: 1.2430 - accuracy: 0.5481 - val_loss: 1.3724 - val_accuracy: 0.3704\n",
      "Epoch 21/100\n",
      "2/2 [==============================] - 0s 41ms/step - loss: 1.2153 - accuracy: 0.5577 - val_loss: 1.2894 - val_accuracy: 0.4444\n",
      "Epoch 22/100\n",
      "2/2 [==============================] - 0s 41ms/step - loss: 1.1096 - accuracy: 0.6827 - val_loss: 1.2803 - val_accuracy: 0.4444\n",
      "Epoch 23/100\n",
      "2/2 [==============================] - 0s 43ms/step - loss: 1.1141 - accuracy: 0.6442 - val_loss: 1.2502 - val_accuracy: 0.4815\n",
      "Epoch 24/100\n",
      "2/2 [==============================] - 0s 38ms/step - loss: 1.0751 - accuracy: 0.6250 - val_loss: 1.2015 - val_accuracy: 0.4815\n",
      "Epoch 25/100\n",
      "2/2 [==============================] - 0s 43ms/step - loss: 0.8997 - accuracy: 0.7115 - val_loss: 1.1466 - val_accuracy: 0.5185\n",
      "Epoch 26/100\n",
      "2/2 [==============================] - 0s 42ms/step - loss: 0.8929 - accuracy: 0.6635 - val_loss: 1.1794 - val_accuracy: 0.4815\n",
      "Epoch 27/100\n",
      "2/2 [==============================] - 0s 49ms/step - loss: 0.8856 - accuracy: 0.7212 - val_loss: 1.1107 - val_accuracy: 0.4815\n",
      "Epoch 28/100\n",
      "2/2 [==============================] - 0s 36ms/step - loss: 0.8167 - accuracy: 0.7019 - val_loss: 0.9875 - val_accuracy: 0.5926\n",
      "Epoch 29/100\n",
      "2/2 [==============================] - 0s 38ms/step - loss: 0.7088 - accuracy: 0.7596 - val_loss: 0.9695 - val_accuracy: 0.5185\n",
      "Epoch 30/100\n",
      "2/2 [==============================] - 0s 37ms/step - loss: 0.7153 - accuracy: 0.7500 - val_loss: 0.8926 - val_accuracy: 0.5556\n",
      "Epoch 31/100\n",
      "2/2 [==============================] - 0s 38ms/step - loss: 0.6800 - accuracy: 0.7885 - val_loss: 0.8504 - val_accuracy: 0.5926\n",
      "Epoch 32/100\n",
      "2/2 [==============================] - 0s 45ms/step - loss: 0.6640 - accuracy: 0.7885 - val_loss: 0.9586 - val_accuracy: 0.5926\n",
      "Epoch 33/100\n",
      "2/2 [==============================] - 0s 42ms/step - loss: 0.6273 - accuracy: 0.7788 - val_loss: 0.9570 - val_accuracy: 0.5926\n",
      "Epoch 34/100\n",
      "2/2 [==============================] - 0s 41ms/step - loss: 0.5474 - accuracy: 0.8750 - val_loss: 0.9687 - val_accuracy: 0.7037\n",
      "Epoch 35/100\n",
      "2/2 [==============================] - 0s 40ms/step - loss: 0.6599 - accuracy: 0.8173 - val_loss: 0.9797 - val_accuracy: 0.6296\n",
      "Epoch 36/100\n",
      "2/2 [==============================] - 0s 40ms/step - loss: 0.5290 - accuracy: 0.8269 - val_loss: 1.1992 - val_accuracy: 0.5556\n",
      "Epoch 37/100\n",
      "2/2 [==============================] - 0s 41ms/step - loss: 0.5622 - accuracy: 0.7885 - val_loss: 0.9637 - val_accuracy: 0.6296\n",
      "Epoch 38/100\n",
      "2/2 [==============================] - 0s 40ms/step - loss: 0.4511 - accuracy: 0.9135 - val_loss: 0.9280 - val_accuracy: 0.6296\n",
      "Epoch 39/100\n",
      "2/2 [==============================] - 0s 40ms/step - loss: 0.5199 - accuracy: 0.8269 - val_loss: 0.8294 - val_accuracy: 0.7407\n",
      "Epoch 40/100\n",
      "2/2 [==============================] - 0s 39ms/step - loss: 0.4332 - accuracy: 0.8558 - val_loss: 1.0699 - val_accuracy: 0.6296\n",
      "Epoch 41/100\n",
      "2/2 [==============================] - 0s 42ms/step - loss: 0.4330 - accuracy: 0.8846 - val_loss: 1.1433 - val_accuracy: 0.5926\n",
      "Epoch 42/100\n",
      "2/2 [==============================] - 0s 40ms/step - loss: 0.4982 - accuracy: 0.8654 - val_loss: 1.0393 - val_accuracy: 0.5926\n",
      "Epoch 43/100\n",
      "2/2 [==============================] - 0s 41ms/step - loss: 0.3295 - accuracy: 0.9327 - val_loss: 0.9952 - val_accuracy: 0.7037\n",
      "Epoch 44/100\n",
      "2/2 [==============================] - 0s 38ms/step - loss: 0.3523 - accuracy: 0.9038 - val_loss: 1.0055 - val_accuracy: 0.6296\n",
      "Epoch 45/100\n",
      "2/2 [==============================] - 0s 39ms/step - loss: 0.3325 - accuracy: 0.9231 - val_loss: 1.1221 - val_accuracy: 0.5556\n",
      "Epoch 46/100\n",
      "2/2 [==============================] - 0s 41ms/step - loss: 0.3101 - accuracy: 0.9327 - val_loss: 0.9927 - val_accuracy: 0.6296\n",
      "Epoch 47/100\n",
      "2/2 [==============================] - 0s 40ms/step - loss: 0.2800 - accuracy: 0.9135 - val_loss: 0.9046 - val_accuracy: 0.7778\n",
      "Epoch 48/100\n",
      "2/2 [==============================] - 0s 38ms/step - loss: 0.2833 - accuracy: 0.9423 - val_loss: 0.9368 - val_accuracy: 0.7778\n",
      "Epoch 49/100\n",
      "2/2 [==============================] - 0s 39ms/step - loss: 0.2979 - accuracy: 0.9038 - val_loss: 0.9208 - val_accuracy: 0.7407\n",
      "Epoch 50/100\n",
      "2/2 [==============================] - 0s 39ms/step - loss: 0.1878 - accuracy: 0.9423 - val_loss: 1.0080 - val_accuracy: 0.5926\n",
      "Epoch 51/100\n",
      "2/2 [==============================] - 0s 40ms/step - loss: 0.1966 - accuracy: 0.9519 - val_loss: 1.0959 - val_accuracy: 0.6296\n",
      "Epoch 52/100\n",
      "2/2 [==============================] - 0s 40ms/step - loss: 0.2123 - accuracy: 0.9615 - val_loss: 0.7831 - val_accuracy: 0.7407\n",
      "Epoch 53/100\n",
      "2/2 [==============================] - 0s 41ms/step - loss: 0.1782 - accuracy: 0.9712 - val_loss: 0.7574 - val_accuracy: 0.7778\n",
      "Epoch 54/100\n",
      "2/2 [==============================] - 0s 39ms/step - loss: 0.2102 - accuracy: 0.9423 - val_loss: 0.7042 - val_accuracy: 0.7778\n",
      "Epoch 55/100\n",
      "2/2 [==============================] - 0s 37ms/step - loss: 0.1549 - accuracy: 0.9712 - val_loss: 0.6923 - val_accuracy: 0.7407\n",
      "Epoch 56/100\n",
      "2/2 [==============================] - 0s 38ms/step - loss: 0.1681 - accuracy: 0.9423 - val_loss: 0.7653 - val_accuracy: 0.6667\n",
      "Epoch 57/100\n",
      "2/2 [==============================] - 0s 47ms/step - loss: 0.1546 - accuracy: 0.9519 - val_loss: 0.9046 - val_accuracy: 0.7037\n",
      "Epoch 58/100\n",
      "2/2 [==============================] - 0s 39ms/step - loss: 0.1663 - accuracy: 0.9615 - val_loss: 0.7976 - val_accuracy: 0.7778\n",
      "Epoch 59/100\n"
     ]
    },
    {
     "name": "stdout",
     "output_type": "stream",
     "text": [
      "2/2 [==============================] - 0s 38ms/step - loss: 0.1372 - accuracy: 0.9615 - val_loss: 0.9152 - val_accuracy: 0.7037\n",
      "Epoch 60/100\n",
      "2/2 [==============================] - 0s 38ms/step - loss: 0.1690 - accuracy: 0.9519 - val_loss: 0.7105 - val_accuracy: 0.7407\n",
      "Epoch 61/100\n",
      "2/2 [==============================] - 0s 37ms/step - loss: 0.1496 - accuracy: 0.9712 - val_loss: 0.9567 - val_accuracy: 0.6296\n",
      "Epoch 62/100\n",
      "2/2 [==============================] - 0s 36ms/step - loss: 0.1423 - accuracy: 0.9615 - val_loss: 1.0101 - val_accuracy: 0.6667\n",
      "Epoch 63/100\n",
      "2/2 [==============================] - 0s 37ms/step - loss: 0.1259 - accuracy: 0.9712 - val_loss: 0.9338 - val_accuracy: 0.7037\n",
      "Epoch 64/100\n",
      "2/2 [==============================] - 0s 37ms/step - loss: 0.1088 - accuracy: 0.9712 - val_loss: 0.9532 - val_accuracy: 0.6667\n",
      "Epoch 65/100\n",
      "2/2 [==============================] - 0s 36ms/step - loss: 0.0877 - accuracy: 0.9904 - val_loss: 1.0356 - val_accuracy: 0.6296\n",
      "Epoch 66/100\n",
      "2/2 [==============================] - 0s 37ms/step - loss: 0.1224 - accuracy: 0.9712 - val_loss: 1.1680 - val_accuracy: 0.6667\n",
      "Epoch 67/100\n",
      "2/2 [==============================] - 0s 38ms/step - loss: 0.1248 - accuracy: 0.9615 - val_loss: 0.9185 - val_accuracy: 0.7407\n",
      "Epoch 68/100\n",
      "2/2 [==============================] - 0s 40ms/step - loss: 0.0726 - accuracy: 0.9904 - val_loss: 0.9839 - val_accuracy: 0.7407\n",
      "Epoch 69/100\n",
      "2/2 [==============================] - 0s 39ms/step - loss: 0.1576 - accuracy: 0.9519 - val_loss: 0.8982 - val_accuracy: 0.7037\n",
      "Epoch 70/100\n",
      "2/2 [==============================] - 0s 38ms/step - loss: 0.1053 - accuracy: 0.9904 - val_loss: 0.9474 - val_accuracy: 0.6296\n",
      "Epoch 71/100\n",
      "2/2 [==============================] - 0s 42ms/step - loss: 0.0645 - accuracy: 0.9904 - val_loss: 1.1902 - val_accuracy: 0.6296\n",
      "Epoch 72/100\n",
      "2/2 [==============================] - 0s 37ms/step - loss: 0.1533 - accuracy: 0.9615 - val_loss: 0.8785 - val_accuracy: 0.7778\n",
      "Epoch 73/100\n",
      "2/2 [==============================] - 0s 37ms/step - loss: 0.0718 - accuracy: 0.9904 - val_loss: 0.9884 - val_accuracy: 0.7037\n",
      "Epoch 74/100\n",
      "2/2 [==============================] - 0s 37ms/step - loss: 0.0873 - accuracy: 0.9904 - val_loss: 1.0383 - val_accuracy: 0.7037\n",
      "Epoch 75/100\n",
      "2/2 [==============================] - 0s 38ms/step - loss: 0.1181 - accuracy: 0.9615 - val_loss: 0.9513 - val_accuracy: 0.7037\n",
      "Epoch 76/100\n",
      "2/2 [==============================] - 0s 37ms/step - loss: 0.0687 - accuracy: 0.9904 - val_loss: 0.9197 - val_accuracy: 0.6667\n",
      "Epoch 77/100\n",
      "2/2 [==============================] - 0s 38ms/step - loss: 0.0657 - accuracy: 0.9808 - val_loss: 1.0623 - val_accuracy: 0.6296\n",
      "Epoch 78/100\n",
      "2/2 [==============================] - 0s 37ms/step - loss: 0.0693 - accuracy: 0.9808 - val_loss: 0.9278 - val_accuracy: 0.6296\n",
      "Epoch 79/100\n",
      "2/2 [==============================] - 0s 42ms/step - loss: 0.0345 - accuracy: 1.0000 - val_loss: 0.7878 - val_accuracy: 0.7407\n",
      "Epoch 80/100\n",
      "2/2 [==============================] - 0s 36ms/step - loss: 0.0459 - accuracy: 1.0000 - val_loss: 0.8261 - val_accuracy: 0.7778\n",
      "Epoch 81/100\n",
      "2/2 [==============================] - 0s 36ms/step - loss: 0.0438 - accuracy: 0.9904 - val_loss: 0.8170 - val_accuracy: 0.7407\n",
      "Epoch 82/100\n",
      "2/2 [==============================] - 0s 38ms/step - loss: 0.0590 - accuracy: 0.9904 - val_loss: 0.7874 - val_accuracy: 0.7407\n",
      "Epoch 83/100\n",
      "2/2 [==============================] - 0s 42ms/step - loss: 0.0557 - accuracy: 0.9808 - val_loss: 0.6951 - val_accuracy: 0.7407\n",
      "Epoch 84/100\n",
      "2/2 [==============================] - 0s 38ms/step - loss: 0.0378 - accuracy: 1.0000 - val_loss: 0.6811 - val_accuracy: 0.7407\n",
      "Epoch 85/100\n",
      "2/2 [==============================] - 0s 39ms/step - loss: 0.0303 - accuracy: 1.0000 - val_loss: 0.7632 - val_accuracy: 0.7037\n",
      "Epoch 86/100\n",
      "2/2 [==============================] - 0s 37ms/step - loss: 0.0293 - accuracy: 1.0000 - val_loss: 0.7974 - val_accuracy: 0.7037\n",
      "Epoch 87/100\n",
      "2/2 [==============================] - 0s 37ms/step - loss: 0.0384 - accuracy: 0.9904 - val_loss: 0.7566 - val_accuracy: 0.7037\n",
      "Epoch 88/100\n",
      "2/2 [==============================] - 0s 41ms/step - loss: 0.0231 - accuracy: 1.0000 - val_loss: 0.7396 - val_accuracy: 0.7407\n",
      "Epoch 89/100\n",
      "2/2 [==============================] - 0s 38ms/step - loss: 0.0293 - accuracy: 1.0000 - val_loss: 0.7914 - val_accuracy: 0.7407\n",
      "Epoch 90/100\n",
      "2/2 [==============================] - 0s 37ms/step - loss: 0.0239 - accuracy: 1.0000 - val_loss: 0.8355 - val_accuracy: 0.7407\n",
      "Epoch 91/100\n",
      "2/2 [==============================] - 0s 40ms/step - loss: 0.0292 - accuracy: 1.0000 - val_loss: 0.8701 - val_accuracy: 0.7407\n",
      "Epoch 92/100\n",
      "2/2 [==============================] - 0s 39ms/step - loss: 0.0213 - accuracy: 1.0000 - val_loss: 0.9180 - val_accuracy: 0.7037\n",
      "Epoch 93/100\n",
      "2/2 [==============================] - 0s 40ms/step - loss: 0.0350 - accuracy: 0.9904 - val_loss: 0.9225 - val_accuracy: 0.7037\n",
      "Epoch 94/100\n",
      "2/2 [==============================] - 0s 38ms/step - loss: 0.0267 - accuracy: 1.0000 - val_loss: 0.9024 - val_accuracy: 0.7037\n",
      "Epoch 95/100\n",
      "2/2 [==============================] - 0s 39ms/step - loss: 0.0178 - accuracy: 1.0000 - val_loss: 0.8824 - val_accuracy: 0.7407\n",
      "Epoch 96/100\n",
      "2/2 [==============================] - 0s 39ms/step - loss: 0.0187 - accuracy: 1.0000 - val_loss: 0.8877 - val_accuracy: 0.7407\n",
      "Epoch 97/100\n",
      "2/2 [==============================] - 0s 40ms/step - loss: 0.0215 - accuracy: 1.0000 - val_loss: 0.8978 - val_accuracy: 0.7407\n",
      "Epoch 98/100\n",
      "2/2 [==============================] - 0s 38ms/step - loss: 0.0150 - accuracy: 1.0000 - val_loss: 0.9315 - val_accuracy: 0.7407\n",
      "Epoch 99/100\n",
      "2/2 [==============================] - 0s 40ms/step - loss: 0.0168 - accuracy: 1.0000 - val_loss: 1.0235 - val_accuracy: 0.7037\n",
      "Epoch 100/100\n",
      "2/2 [==============================] - 0s 39ms/step - loss: 0.0352 - accuracy: 0.9904 - val_loss: 0.9926 - val_accuracy: 0.7407\n"
     ]
    }
   ],
   "source": [
    "from keras.callbacks import EarlyStopping\n",
    "earlystop=EarlyStopping(monitor='val_accuracy',patience =10)\n",
    "hist=model.fit(embedded_train,Y_train,epochs=100,batch_size=64,shuffle=True,validation_split=0.2)\n"
   ]
  },
  {
   "cell_type": "code",
   "execution_count": 19,
   "id": "0f19d6dd",
   "metadata": {},
   "outputs": [
    {
     "data": {
      "image/png": "[encoded data removed]",
      "text/plain": [
       "<Figure size 432x288 with 1 Axes>"
      ]
     },
     "metadata": {
      "needs_background": "light"
     },
     "output_type": "display_data"
    }
   ],
   "source": [
    "import matplotlib.pyplot as plt\n",
    "plt.plot(hist.history['val_loss'],label=\"Validation Loss\")\n",
    "plt.plot(hist.history['loss'],label=\"Training Loss\")\n",
    "plt.legend()\n",
    "plt.show()"
   ]
  },
  {
   "cell_type": "code",
   "execution_count": 20,
   "id": "0006e72a",
   "metadata": {},
   "outputs": [
    {
     "data": {
      "image/png": "[encoded data removed]",
      "text/plain": [
       "<Figure size 432x288 with 1 Axes>"
      ]
     },
     "metadata": {
      "needs_background": "light"
     },
     "output_type": "display_data"
    }
   ],
   "source": [
    "plt.plot(hist.history['val_accuracy'],label=\"Validation Accuracy\")\n",
    "plt.plot(hist.history['accuracy'],label=\"Training Accuracy\")\n",
    "plt.legend()\n",
    "plt.show()"
   ]
  },
  {
   "cell_type": "code",
   "execution_count": 21,
   "id": "611d47de",
   "metadata": {},
   "outputs": [
    {
     "name": "stdout",
     "output_type": "stream",
     "text": [
      "2/2 [==============================] - 0s 9ms/step - loss: 0.9492 - accuracy: 0.8000\n"
     ]
    },
    {
     "data": {
      "text/plain": [
       "[0.9491589069366455, 0.800000011920929]"
      ]
     },
     "execution_count": 21,
     "metadata": {},
     "output_type": "execute_result"
    }
   ],
   "source": [
    "model.evaluate(embedded_test,Y_test)"
   ]
  },
  {
   "cell_type": "code",
   "execution_count": 22,
   "id": "3bb312aa",
   "metadata": {},
   "outputs": [],
   "source": [
    "#75%accuracy on the simple lstm model\n",
    "#79% accuracy on the bit complex lstm model"
   ]
  },
  {
   "cell_type": "markdown",
   "id": "285dbd20",
   "metadata": {},
   "source": [
    "PRINT EMOJI"
   ]
  },
  {
   "cell_type": "code",
   "execution_count": 23,
   "id": "0f4493a9",
   "metadata": {},
   "outputs": [
    {
     "name": "stdout",
     "output_type": "stream",
     "text": [
      "2/2 [==============================] - 1s 5ms/step\n"
     ]
    }
   ],
   "source": [
    "pred=model.predict(embedded_test)"
   ]
  },
  {
   "cell_type": "code",
   "execution_count": 24,
   "id": "51af320b",
   "metadata": {
    "scrolled": true
   },
   "outputs": [
    {
     "name": "stdout",
     "output_type": "stream",
     "text": [
      "you brighten my day\n",
      "😃\n",
      ":❤️:\n",
      "I boiled rice\n",
      "🍴\n",
      "🍴\n",
      "she is a bully\n",
      "😞\n",
      "😃\n",
      "Why are you feeling bad\n",
      "😞\n",
      "😞\n",
      "I am upset\n",
      "😞\n",
      "😞\n",
      "give me the ball\n",
      "⚾\n",
      "⚾\n",
      "My grandmother is the love of my life\n",
      ":❤️:\n",
      ":❤️:\n",
      "enjoy your game\n",
      "⚾\n",
      "⚾\n",
      "valentine day is near\n",
      "😃\n",
      "😃\n",
      "I miss you so much\n",
      ":❤️:\n",
      ":❤️:\n",
      "throw the ball\n",
      "⚾\n",
      "⚾\n",
      "My life is so boring\n",
      "😞\n",
      "😞\n",
      "she said yes\n",
      "😃\n",
      "😃\n",
      "will you be my valentine\n",
      "😃\n",
      ":❤️:\n",
      "he can pitch really well\n",
      "⚾\n",
      "⚾\n",
      "dance with me\n",
      "😃\n",
      "😃\n",
      "I am hungry\n",
      "🍴\n",
      "🍴\n",
      "See you at the restaurant\n",
      "🍴\n",
      "⚾\n",
      "I like to laugh\n",
      "😃\n",
      "😃\n",
      "I will run\n",
      "⚾\n",
      "⚾\n"
     ]
    }
   ],
   "source": [
    "for i in range(20,40):\n",
    "    print(' '.join(X_test[i]))\n",
    "    print(emoji.emojize(emoji_dictionary[str(np.argmax(Y_test[i]))]))\n",
    "    print(emoji.emojize(emoji_dictionary[str(np.argmax(pred[i]))]))"
   ]
  },
  {
   "cell_type": "markdown",
   "id": "63310fda",
   "metadata": {},
   "source": [
    "# DETAILS WE NEED IN DJANGO"
   ]
  },
  {
   "cell_type": "code",
   "execution_count": 26,
   "id": "ba68dc02",
   "metadata": {},
   "outputs": [],
   "source": [
    "with open(\"model.json\",'w') as file:\n",
    "    file.write(model.to_json())\n",
    "model.save_weights('model.h5')"
   ]
  },
  {
   "cell_type": "code",
   "execution_count": 27,
   "id": "338ba125",
   "metadata": {},
   "outputs": [],
   "source": [
    "from keras.models import model_from_json"
   ]
  },
  {
   "cell_type": "code",
   "execution_count": 28,
   "id": "00cecb01",
   "metadata": {},
   "outputs": [],
   "source": [
    "with open(\"model.json\",'r') as file:\n",
    "    model=model_from_json(file.read())\n",
    "model.load_weights('model.h5')"
   ]
  },
  {
   "cell_type": "code",
   "execution_count": null,
   "id": "848d66b0",
   "metadata": {},
   "outputs": [],
   "source": []
  }
 ],
 "metadata": {
  "kernelspec": {
   "display_name": "Python 3 (ipykernel)",
   "language": "python",
   "name": "python3"
  },
  "language_info": {
   "codemirror_mode": {
    "name": "ipython",
    "version": 3
   },
   "file_extension": ".py",
   "mimetype": "text/x-python",
   "name": "python",
   "nbconvert_exporter": "python",
   "pygments_lexer": "ipython3",
   "version": "3.9.12"
  }
 },
 "nbformat": 4,
 "nbformat_minor": 5
}
